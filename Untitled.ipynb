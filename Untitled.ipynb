{
 "cells": [
  {
   "cell_type": "code",
   "execution_count": 1,
   "metadata": {},
   "outputs": [],
   "source": [
    "import findspark\n",
    "findspark.init()\n"
   ]
  },
  {
   "cell_type": "code",
   "execution_count": 15,
   "metadata": {},
   "outputs": [],
   "source": [
    "from pyspark.sql import SparkSession\n",
    "import matplotlib.pyplot as plt\n",
    "\n",
    "from pyspark.sql.functions import *\n",
    "from pyspark.sql import functions as f\n",
    "import pyspark"
   ]
  },
  {
   "cell_type": "code",
   "execution_count": 3,
   "metadata": {},
   "outputs": [],
   "source": [
    "spark = SparkSession.builder.master(\"local[2]\").appName(\"Google playstore app rating prediction\").getOrCreate()"
   ]
  },
  {
   "cell_type": "code",
   "execution_count": 59,
   "metadata": {},
   "outputs": [
    {
     "name": "stdout",
     "output_type": "stream",
     "text": [
      "root\n",
      " |-- App: string (nullable = true)\n",
      " |-- Category: string (nullable = true)\n",
      " |-- Rating: string (nullable = true)\n",
      " |-- Reviews: string (nullable = true)\n",
      " |-- Size: string (nullable = true)\n",
      " |-- Installs: string (nullable = true)\n",
      " |-- Type: string (nullable = true)\n",
      " |-- Price: string (nullable = true)\n",
      " |-- Content Rating: string (nullable = true)\n",
      " |-- Genres: string (nullable = true)\n",
      " |-- Last Updated: string (nullable = true)\n",
      " |-- Current Ver: string (nullable = true)\n",
      " |-- Android Ver: string (nullable = true)\n",
      "\n"
     ]
    }
   ],
   "source": [
    "df = spark.read.format(\"csv\").option(\"header\",True).option(\"inferSchema\",True).load(\"C:\\\\Users\\\\Jaisriram\\\\Desktop\\\\desktop\\\\bigdata\\\\examples\\\\googleplaystore.csv\")\n",
    "df.count()\n",
    "df.printSchema()"
   ]
  },
  {
   "cell_type": "code",
   "execution_count": null,
   "metadata": {},
   "outputs": [],
   "source": []
  },
  {
   "cell_type": "code",
   "execution_count": 60,
   "metadata": {},
   "outputs": [
    {
     "name": "stdout",
     "output_type": "stream",
     "text": [
      "root\n",
      " |-- App: string (nullable = true)\n",
      " |-- Category: string (nullable = true)\n",
      " |-- Rating: integer (nullable = true)\n",
      " |-- Reviews: string (nullable = true)\n",
      " |-- Size: string (nullable = true)\n",
      " |-- Installs: string (nullable = true)\n",
      " |-- Type: string (nullable = true)\n",
      " |-- Price: string (nullable = true)\n",
      " |-- Content Rating: string (nullable = true)\n",
      " |-- Genres: string (nullable = true)\n",
      " |-- Last Updated: string (nullable = true)\n",
      " |-- Current Ver: string (nullable = true)\n",
      " |-- Android Ver: string (nullable = true)\n",
      "\n"
     ]
    },
    {
     "data": {
      "text/plain": [
       "10841"
      ]
     },
     "execution_count": 60,
     "metadata": {},
     "output_type": "execute_result"
    }
   ],
   "source": [
    "from pyspark.sql.types import IntegerType\n",
    "df = df.withColumn(\"Rating\", df[\"Rating\"].cast(IntegerType()))\n",
    "#df = df.withColumn(\"Type\", df[\"Type\"].cast(IntegerType()))\n",
    "df.printSchema()\n",
    "df.count()"
   ]
  },
  {
   "cell_type": "code",
   "execution_count": 61,
   "metadata": {},
   "outputs": [
    {
     "name": "stdout",
     "output_type": "stream",
     "text": [
      "+---+--------+------+-------+----+--------+----+-----+--------------+------+------------+-----------+-----------+\n",
      "|App|Category|Rating|Reviews|Size|Installs|Type|Price|Content Rating|Genres|Last Updated|Current Ver|Android Ver|\n",
      "+---+--------+------+-------+----+--------+----+-----+--------------+------+------------+-----------+-----------+\n",
      "|  0|       0|  1476|      0|   0|       0|   1|    0|             1|     0|           0|          8|          3|\n",
      "+---+--------+------+-------+----+--------+----+-----+--------------+------+------------+-----------+-----------+\n",
      "\n"
     ]
    }
   ],
   "source": [
    "df.select([count(when(isnull(c) | isnan(c) , c)).alias(c) for c in df.columns]).show()\n"
   ]
  },
  {
   "cell_type": "code",
   "execution_count": 69,
   "metadata": {},
   "outputs": [],
   "source": [
    "nullDropdf=df.dropna(subset=(\"Rating\",\"Type\",\"Content Rating\",\"Current Ver\",\"Android Ver\"))\n"
   ]
  },
  {
   "cell_type": "code",
   "execution_count": 70,
   "metadata": {},
   "outputs": [
    {
     "data": {
      "text/plain": [
       "9363"
      ]
     },
     "execution_count": 70,
     "metadata": {},
     "output_type": "execute_result"
    }
   ],
   "source": [
    "nullDropdf.count()"
   ]
  },
  {
   "cell_type": "code",
   "execution_count": 71,
   "metadata": {},
   "outputs": [
    {
     "name": "stdout",
     "output_type": "stream",
     "text": [
      "+---+--------+------+-------+----+--------+----+-----+--------------+------+------------+-----------+-----------+\n",
      "|App|Category|Rating|Reviews|Size|Installs|Type|Price|Content Rating|Genres|Last Updated|Current Ver|Android Ver|\n",
      "+---+--------+------+-------+----+--------+----+-----+--------------+------+------------+-----------+-----------+\n",
      "|  0|       0|     0|      0|   0|       0|   0|    0|             0|     0|           0|          0|          0|\n",
      "+---+--------+------+-------+----+--------+----+-----+--------------+------+------------+-----------+-----------+\n",
      "\n"
     ]
    }
   ],
   "source": [
    "nullDropdf.select([count(when(isnull(c) , c)).alias(c) for c in nullDropdf.columns]).show()"
   ]
  },
  {
   "cell_type": "code",
   "execution_count": 73,
   "metadata": {},
   "outputs": [
    {
     "data": {
      "text/plain": [
       "8889"
      ]
     },
     "execution_count": 73,
     "metadata": {},
     "output_type": "execute_result"
    }
   ],
   "source": [
    "df1=nullDropdf.dropDuplicates()\n",
    "df1.count()"
   ]
  },
  {
   "cell_type": "code",
   "execution_count": 74,
   "metadata": {},
   "outputs": [
    {
     "name": "stdout",
     "output_type": "stream",
     "text": [
      "+--------------------+-------------------+------+-------+------------------+------------+----+-----+--------------+--------------------+-----------------+------------------+------------------+\n",
      "|                 App|           Category|Rating|Reviews|              Size|    Installs|Type|Price|Content Rating|              Genres|     Last Updated|       Current Ver|       Android Ver|\n",
      "+--------------------+-------------------+------+-------+------------------+------------+----+-----+--------------+--------------------+-----------------+------------------+------------------+\n",
      "|    Infinite Painter|     ART_AND_DESIGN|     4|  36815|               29M|  1,000,000+|Free|    0|      Everyone|        Art & Design|    June 14, 2018|          6.1.61.1|        4.2 and up|\n",
      "|Animated Photo Ed...|     ART_AND_DESIGN|     4|    203|              6.1M|    100,000+|Free|    0|      Everyone|        Art & Design|   March 21, 2018|              1.03|      4.0.3 and up|\n",
      "|       Speed Reading|          EDUCATION|     4|  10611|               11M|    500,000+|Free|    0|      Everyone|           Education|     May 27, 2018|             2.3.7|        4.0 and up|\n",
      "|    Talking Ginger 2|      ENTERTAINMENT|     4| 702975|               49M| 50,000,000+|Free|    0|      Everyone|       Entertainment|     July 5, 2018|          2.6.6.11|        4.1 and up|\n",
      "|          VTB-Online|            FINANCE|     4| 138371|Varies with device|  5,000,000+|Free|    0|      Everyone|             Finance|   August 2, 2018|Varies with device|      4.0.3 and up|\n",
      "|Stock Trainer: Vi...|            FINANCE|     4|  42809|               23M|  1,000,000+|Free|    0|      Everyone|             Finance|    July 27, 2018|       3.04 - Beta|        4.1 and up|\n",
      "|        Popeyes® App|     FOOD_AND_DRINK|     3|     61|               11M|     50,000+|Free|    0|      Everyone|        Food & Drink|    July 23, 2018|             1.0.2|        4.1 and up|\n",
      "|Transformers Resc...|             FAMILY|     4|  41273|               16M|  5,000,000+|Free|    0|      Everyone|Adventure;Action ...|     July 5, 2018|               1.5|        4.1 and up|\n",
      "|      Breathing Zone|            MEDICAL|     4|    319|Varies with device|      5,000+|Paid|$3.99|      Everyone|             Medical|    March 6, 2018|Varies with device|Varies with device|\n",
      "|Tapatalk - 100,00...|             SOCIAL|     4| 285816|Varies with device| 10,000,000+|Free|    0|    Mature 17+|              Social|    June 19, 2018|Varies with device|Varies with device|\n",
      "|Nextdoor - Local ...|             SOCIAL|     4|  51502|               20M|  5,000,000+|Free|    0|          Teen|              Social|    July 25, 2018|              2.69|        5.0 and up|\n",
      "|Camera51 - a smar...|        PHOTOGRAPHY|     4|  29707|               18M|  1,000,000+|Free|    0|      Everyone|         Photography|February 10, 2015|             1.1.6|        4.0 and up|\n",
      "|Cameringo Lite. F...|        PHOTOGRAPHY|     4| 140917|              5.7M| 10,000,000+|Free|    0|      Everyone|         Photography|    June 11, 2018|            2.2.93|        4.0 and up|\n",
      "|Bleacher Report: ...|             SPORTS|     4| 122283|Varies with device|  5,000,000+|Free|    0|  Everyone 10+|              Sports|    July 20, 2018|Varies with device|Varies with device|\n",
      "|Gormey: Find Best...|   TRAVEL_AND_LOCAL|     4|     34|              7.6M|      1,000+|Free|    0|      Everyone|      Travel & Local|  August 29, 2017|               2.3|      4.0.3 and up|\n",
      "|    OnePlus Launcher|    PERSONALIZATION|     4|  24215|Varies with device|  1,000,000+|Free|    0|      Everyone|     Personalization|   August 3, 2018|Varies with device|Varies with device|\n",
      "|Alopec - Online S...|MAPS_AND_NAVIGATION|     4|   1240|               14M|    100,000+|Free|    0|      Everyone|   Maps & Navigation| November 2, 2017|             2.4.1|        4.1 and up|\n",
      "|CL Mobile - Class...|           SHOPPING|     4|  27275|              8.3M|  1,000,000+|Free|    0|          Teen|            Shopping|    July 30, 2018|          27500000|        4.1 and up|\n",
      "|              Vector|               GAME|     4|3058687|               89M|100,000,000+|Free|    0|  Everyone 10+|              Arcade|    July 18, 2016|             1.2.0|        4.0 and up|\n",
      "|Chuck E.'s Skate ...|             FAMILY|     3|  94910|               44M| 10,000,000+|Free|    0|      Everyone|Action;Action & A...| January 10, 2017|              1.12|        4.3 and up|\n",
      "+--------------------+-------------------+------+-------+------------------+------------+----+-----+--------------+--------------------+-----------------+------------------+------------------+\n",
      "only showing top 20 rows\n",
      "\n"
     ]
    }
   ],
   "source": [
    "df1.show()"
   ]
  },
  {
   "cell_type": "code",
   "execution_count": null,
   "metadata": {},
   "outputs": [],
   "source": []
  }
 ],
 "metadata": {
  "kernelspec": {
   "display_name": "Python 3",
   "language": "python",
   "name": "python3"
  },
  "language_info": {
   "codemirror_mode": {
    "name": "ipython",
    "version": 3
   },
   "file_extension": ".py",
   "mimetype": "text/x-python",
   "name": "python",
   "nbconvert_exporter": "python",
   "pygments_lexer": "ipython3",
   "version": "3.8.5"
  }
 },
 "nbformat": 4,
 "nbformat_minor": 4
}
