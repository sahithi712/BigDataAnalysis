{
 "cells": [
  {
   "cell_type": "code",
   "execution_count": 1,
   "metadata": {},
   "outputs": [],
   "source": [
    "import findspark\n",
    "findspark.init()\n"
   ]
  },
  {
   "cell_type": "code",
   "execution_count": 2,
   "metadata": {},
   "outputs": [],
   "source": [
    "from pyspark.sql import SparkSession\n",
    "import matplotlib.pyplot as plt\n",
    "\n",
    "from pyspark.sql.functions import *\n",
    "from pyspark.sql import functions as f\n",
    "import pyspark\n",
    "from pyspark.ml.param import Param, Params\n",
    "#from mpl_toolkits.basemap import Basemap\n",
    "import matplotlib.pyplot as plt\n",
    "from pylab import rcParams\n",
    "%matplotlib inline\n",
    "import pyspark\n",
    "from pyspark import SparkConf\n",
    "from pyspark import SparkContext\n",
    "from pyspark.sql import SQLContext\n",
    "import matplotlib\n",
    "import matplotlib.pyplot as plt\n",
    "from pyspark.sql import Row\n",
    "from pyspark.sql.functions import UserDefinedFunction\n",
    "from pyspark.sql.types import *\n",
    "import atexit\n",
    "from numpy import array\n",
    "import numpy as np\n",
    "import datetime\n",
    "from pyspark.sql.functions import isnan\n"
   ]
  },
  {
   "cell_type": "code",
   "execution_count": 3,
   "metadata": {},
   "outputs": [],
   "source": [
    "spark = SparkSession.builder.master(\"local[2]\").appName(\"Google playstore app rating prediction\").getOrCreate()"
   ]
  },
  {
   "cell_type": "code",
   "execution_count": 4,
   "metadata": {},
   "outputs": [
    {
     "name": "stdout",
     "output_type": "stream",
     "text": [
      "root\n",
      " |-- App: string (nullable = true)\n",
      " |-- Category: string (nullable = true)\n",
      " |-- Rating: string (nullable = true)\n",
      " |-- Reviews: string (nullable = true)\n",
      " |-- Size: string (nullable = true)\n",
      " |-- Installs: string (nullable = true)\n",
      " |-- Type: string (nullable = true)\n",
      " |-- Price: string (nullable = true)\n",
      " |-- Content Rating: string (nullable = true)\n",
      " |-- Genres: string (nullable = true)\n",
      " |-- Last Updated: string (nullable = true)\n",
      " |-- Current Ver: string (nullable = true)\n",
      " |-- Android Ver: string (nullable = true)\n",
      "\n"
     ]
    },
    {
     "data": {
      "text/plain": [
       "10841"
      ]
     },
     "execution_count": 4,
     "metadata": {},
     "output_type": "execute_result"
    }
   ],
   "source": [
    "df = spark.read.format(\"csv\").option(\"header\",True).option(\"inferSchema\",True).load(\"C:\\\\Users\\\\Jaisriram\\\\Desktop\\\\desktop\\\\bigdata\\\\examples\\\\googleplaystore.csv\")\n",
    "\n",
    "df.printSchema()\n",
    "#df.show()\n",
    "df.count()"
   ]
  },
  {
   "cell_type": "code",
   "execution_count": 5,
   "metadata": {},
   "outputs": [
    {
     "data": {
      "text/plain": [
       "10358"
      ]
     },
     "execution_count": 5,
     "metadata": {},
     "output_type": "execute_result"
    }
   ],
   "source": [
    "df=df.dropDuplicates()\n",
    "df.count()"
   ]
  },
  {
   "cell_type": "code",
   "execution_count": 6,
   "metadata": {},
   "outputs": [
    {
     "name": "stdout",
     "output_type": "stream",
     "text": [
      "+---+--------+------+-------+----+--------+----+-----+--------------+------+------------+-----------+-----------+\n",
      "|App|Category|Rating|Reviews|Size|Installs|Type|Price|Content Rating|Genres|Last Updated|Current Ver|Android Ver|\n",
      "+---+--------+------+-------+----+--------+----+-----+--------------+------+------------+-----------+-----------+\n",
      "|  0|       0|  1465|      0|   0|       0|   1|    0|             1|     0|           0|          8|          3|\n",
      "+---+--------+------+-------+----+--------+----+-----+--------------+------+------------+-----------+-----------+\n",
      "\n"
     ]
    }
   ],
   "source": [
    "df.select([count(when(isnull(c) | isnan(c) , c)).alias(c) for c in df.columns]).show()\n"
   ]
  },
  {
   "cell_type": "code",
   "execution_count": null,
   "metadata": {},
   "outputs": [],
   "source": []
  },
  {
   "cell_type": "code",
   "execution_count": 7,
   "metadata": {},
   "outputs": [
    {
     "name": "stdout",
     "output_type": "stream",
     "text": [
      "root\n",
      " |-- App: string (nullable = true)\n",
      " |-- Category: string (nullable = true)\n",
      " |-- Rating: float (nullable = true)\n",
      " |-- Reviews: string (nullable = true)\n",
      " |-- Size: string (nullable = true)\n",
      " |-- Installs: string (nullable = true)\n",
      " |-- Type: string (nullable = true)\n",
      " |-- Price: string (nullable = true)\n",
      " |-- Content Rating: string (nullable = true)\n",
      " |-- Genres: string (nullable = true)\n",
      " |-- Last Updated: string (nullable = true)\n",
      " |-- Current Ver: string (nullable = true)\n",
      " |-- Android Ver: string (nullable = true)\n",
      "\n"
     ]
    },
    {
     "data": {
      "text/plain": [
       "10358"
      ]
     },
     "execution_count": 7,
     "metadata": {},
     "output_type": "execute_result"
    }
   ],
   "source": [
    "from pyspark.sql.types import IntegerType , FloatType\n",
    "df = df.withColumn(\"Rating\", df[\"Rating\"].cast(FloatType()))\n",
    "#df = df.withColumn(\"Type\", df[\"Type\"].cast(IntegerType()))\n",
    "df.printSchema()\n",
    "df.count()\n",
    "#df.show(1000)"
   ]
  },
  {
   "cell_type": "code",
   "execution_count": 8,
   "metadata": {},
   "outputs": [
    {
     "name": "stdout",
     "output_type": "stream",
     "text": [
      "+---+--------+------+-------+----+--------+----+-----+--------------+------+------------+-----------+-----------+\n",
      "|App|Category|Rating|Reviews|Size|Installs|Type|Price|Content Rating|Genres|Last Updated|Current Ver|Android Ver|\n",
      "+---+--------+------+-------+----+--------+----+-----+--------------+------+------------+-----------+-----------+\n",
      "|  0|       0|  1467|      0|   0|       0|   1|    0|             1|     0|           0|          8|          3|\n",
      "+---+--------+------+-------+----+--------+----+-----+--------------+------+------------+-----------+-----------+\n",
      "\n"
     ]
    },
    {
     "data": {
      "text/plain": [
       "10358"
      ]
     },
     "execution_count": 8,
     "metadata": {},
     "output_type": "execute_result"
    }
   ],
   "source": [
    "df.select([count(when(isnull(c) | isnan(c) , c)).alias(c) for c in df.columns]).show()\n",
    "df.count()"
   ]
  },
  {
   "cell_type": "code",
   "execution_count": 9,
   "metadata": {},
   "outputs": [
    {
     "name": "stdout",
     "output_type": "stream",
     "text": [
      "+---+--------+------+-------+----+--------+----+-----+--------------+------+------------+-----------+-----------+\n",
      "|App|Category|Rating|Reviews|Size|Installs|Type|Price|Content Rating|Genres|Last Updated|Current Ver|Android Ver|\n",
      "+---+--------+------+-------+----+--------+----+-----+--------------+------+------------+-----------+-----------+\n",
      "|  0|       0|     0|      0|   0|       0|   1|    0|             1|     0|           0|          8|          3|\n",
      "+---+--------+------+-------+----+--------+----+-----+--------------+------+------------+-----------+-----------+\n",
      "\n",
      "root\n",
      " |-- App: string (nullable = true)\n",
      " |-- Category: string (nullable = true)\n",
      " |-- Rating: float (nullable = false)\n",
      " |-- Reviews: string (nullable = true)\n",
      " |-- Size: string (nullable = true)\n",
      " |-- Installs: string (nullable = true)\n",
      " |-- Type: string (nullable = true)\n",
      " |-- Price: string (nullable = true)\n",
      " |-- Content Rating: string (nullable = true)\n",
      " |-- Genres: string (nullable = true)\n",
      " |-- Last Updated: string (nullable = true)\n",
      " |-- Current Ver: string (nullable = true)\n",
      " |-- Android Ver: string (nullable = true)\n",
      "\n"
     ]
    }
   ],
   "source": [
    "num_cols = [col_type[0] for col_type in filter(lambda dtype: dtype[1] in {\"bigint\", \"double\", \"int\",\"float\"}, df.dtypes)]\n",
    "### Compute a dict with <col_name, median_value>\n",
    "median_dict = dict()\n",
    "for c in num_cols:\n",
    "   median_dict[c] = df.stat.approxQuantile(c, [0.5], 0.001)[0]\n",
    "df = df.na.fill(median_dict)\n",
    "df.select([count(when(isnull(c) | isnan(c) , c)).alias(c) for c in df.columns]).show()\n",
    "df.count()\n",
    "df.printSchema()"
   ]
  },
  {
   "cell_type": "code",
   "execution_count": 10,
   "metadata": {},
   "outputs": [
    {
     "name": "stdout",
     "output_type": "stream",
     "text": [
      "+---+--------+------+-------+----+--------+----+-----+--------------+------+------------+-----------+-----------+\n",
      "|App|Category|Rating|Reviews|Size|Installs|Type|Price|Content Rating|Genres|Last Updated|Current Ver|Android Ver|\n",
      "+---+--------+------+-------+----+--------+----+-----+--------------+------+------------+-----------+-----------+\n",
      "|  0|       0|     0|      0|   0|       0|   1|    0|             1|     0|           0|          8|          3|\n",
      "+---+--------+------+-------+----+--------+----+-----+--------------+------+------------+-----------+-----------+\n",
      "\n",
      "root\n",
      " |-- App: string (nullable = true)\n",
      " |-- Category: string (nullable = true)\n",
      " |-- Rating: float (nullable = false)\n",
      " |-- Reviews: string (nullable = true)\n",
      " |-- Size: string (nullable = true)\n",
      " |-- Installs: string (nullable = true)\n",
      " |-- Type: string (nullable = true)\n",
      " |-- Price: string (nullable = true)\n",
      " |-- Content Rating: string (nullable = true)\n",
      " |-- Genres: string (nullable = true)\n",
      " |-- Last Updated: string (nullable = true)\n",
      " |-- Current Ver: string (nullable = true)\n",
      " |-- Android Ver: string (nullable = true)\n",
      "\n"
     ]
    }
   ],
   "source": [
    "df = df.withColumn('Size', translate('Size', 'M', ''))\n",
    "df = df.withColumn('Size', translate('Size', 'k', ''))\n",
    "df = df.withColumn('Size', translate('Size', '+', ''))\n",
    "df = df.withColumn('Size', translate('Size', ',', ''))\n",
    "#df_imputed = df_imputed.withColumn('Size', translate('Size', 'Varies with device', ''))\n",
    "df = df.withColumn('Installs', translate('Installs', '+', ''))\n",
    "df = df.withColumn('Installs', translate('Installs', ',', ''))\n",
    "df = df.withColumn('Price', translate('Price', '$', ''))\n",
    "df.select([count(when(isnull(c) | isnan(c) , c)).alias(c) for c in df.columns]).show()\n",
    "df.count()\n",
    "df.printSchema()"
   ]
  },
  {
   "cell_type": "code",
   "execution_count": 11,
   "metadata": {},
   "outputs": [
    {
     "data": {
      "text/plain": [
       "8833"
      ]
     },
     "execution_count": 11,
     "metadata": {},
     "output_type": "execute_result"
    }
   ],
   "source": [
    "df= df.where(col(\"Size\") != \"Varies with device\")\n",
    "#df_imputed.show(30)\n",
    "df.count()"
   ]
  },
  {
   "cell_type": "code",
   "execution_count": 12,
   "metadata": {},
   "outputs": [
    {
     "name": "stdout",
     "output_type": "stream",
     "text": [
      "+--------------------+-------------------+------+-------+----+--------+----+-----+--------------+-----------------+------------------+-----------+------------+\n",
      "|                 App|           Category|Rating|Reviews|Size|Installs|Type|Price|Content Rating|           Genres|      Last Updated|Current Ver| Android Ver|\n",
      "+--------------------+-------------------+------+-------+----+--------+----+-----+--------------+-----------------+------------------+-----------+------------+\n",
      "|English Dictionar...|BOOKS_AND_REFERENCE|   4.4| 341157|  30|10000000|Free|    0|  Everyone 10+|Books & Reference|    March 20, 2018|      3.9.1|  4.2 and up|\n",
      "|Learn English for...|          EDUCATION|   4.5|   1929| 2.5|  500000|Free|    0|      Everyone|        Education|September 28, 2017|        1.1|  2.3 and up|\n",
      "|Babbel – Learn Sp...|          EDUCATION|   4.4|  54798|  11| 1000000|Free|    0|      Everyone|        Education|     July 30, 2018|     20.7.2|  4.4 and up|\n",
      "|Sarajevo Film Fes...|             EVENTS|   4.3|      6| 9.7|     100|Free|    0|  Everyone 10+|           Events|     July 31, 2018|      2.0.1| 4.4W and up|\n",
      "|The Bump Pregnanc...| HEALTH_AND_FITNESS|   4.6|  20301|  22| 1000000|Free|    0|      Everyone| Health & Fitness|      May 16, 2018|       3.22|  4.3 and up|\n",
      "|Weight Watchers M...| HEALTH_AND_FITNESS|   4.2| 270294|  58| 5000000|Free|    0|      Everyone| Health & Fitness|     July 31, 2018|     6.15.0|  4.1 and up|\n",
      "|VitusVet: Pet Hea...|            MEDICAL|   4.8|   3052|  12|  100000|Free|    0|      Everyone|          Medical|     July 31, 2018|      3.8.0|  4.1 and up|\n",
      "|Ebates: Cash Back...|           SHOPPING|   4.5|  37253|  31| 1000000|Free|    0|      Everyone|         Shopping|    August 3, 2018|     4.31.2|  4.4 and up|\n",
      "|Yoriza Pension - ...|   TRAVEL_AND_LOCAL|   4.8|  17882|  86| 1000000|Free|    0|      Everyone|   Travel & Local|    August 3, 2018|      3.4.5|  5.0 and up|\n",
      "|      Age Calculator|              TOOLS|   4.4|  24265| 3.3| 1000000|Free|    0|      Everyone|            Tools|     July 25, 2017|      4.0.6|4.0.3 and up|\n",
      "+--------------------+-------------------+------+-------+----+--------+----+-----+--------------+-----------------+------------------+-----------+------------+\n",
      "only showing top 10 rows\n",
      "\n",
      "root\n",
      " |-- App: string (nullable = true)\n",
      " |-- Category: string (nullable = true)\n",
      " |-- Rating: float (nullable = false)\n",
      " |-- Reviews: string (nullable = true)\n",
      " |-- Size: string (nullable = true)\n",
      " |-- Installs: string (nullable = true)\n",
      " |-- Type: string (nullable = true)\n",
      " |-- Price: string (nullable = true)\n",
      " |-- Content Rating: string (nullable = true)\n",
      " |-- Genres: string (nullable = true)\n",
      " |-- Last Updated: string (nullable = true)\n",
      " |-- Current Ver: string (nullable = true)\n",
      " |-- Android Ver: string (nullable = true)\n",
      "\n"
     ]
    }
   ],
   "source": [
    "df.show(10)\n",
    "df.printSchema()"
   ]
  },
  {
   "cell_type": "code",
   "execution_count": 13,
   "metadata": {},
   "outputs": [
    {
     "name": "stdout",
     "output_type": "stream",
     "text": [
      "root\n",
      " |-- App: string (nullable = true)\n",
      " |-- Category: string (nullable = true)\n",
      " |-- Rating: float (nullable = false)\n",
      " |-- Reviews: string (nullable = true)\n",
      " |-- Size: float (nullable = true)\n",
      " |-- Installs: float (nullable = true)\n",
      " |-- Type: string (nullable = true)\n",
      " |-- Price: float (nullable = true)\n",
      " |-- Content Rating: string (nullable = true)\n",
      " |-- Genres: string (nullable = true)\n",
      " |-- Last Updated: string (nullable = true)\n",
      " |-- Current Ver: string (nullable = true)\n",
      " |-- Android Ver: string (nullable = true)\n",
      "\n"
     ]
    }
   ],
   "source": [
    "df = df.withColumn(\"Size\", df[\"Size\"].cast(FloatType()))\n",
    "df = df.withColumn(\"Installs\", df[\"Installs\"].cast(FloatType()))\n",
    "df = df.withColumn(\"Price\", df[\"Price\"].cast(FloatType()))\n",
    "df.printSchema()"
   ]
  },
  {
   "cell_type": "code",
   "execution_count": 14,
   "metadata": {},
   "outputs": [
    {
     "name": "stdout",
     "output_type": "stream",
     "text": [
      "+---+--------+------+-------+----+--------+----+-----+--------------+------+------------+-----------+-----------+\n",
      "|App|Category|Rating|Reviews|Size|Installs|Type|Price|Content Rating|Genres|Last Updated|Current Ver|Android Ver|\n",
      "+---+--------+------+-------+----+--------+----+-----+--------------+------+------------+-----------+-----------+\n",
      "|  0|       0|     0|      0|   2|       1|   0|    3|             1|     0|           0|          8|          3|\n",
      "+---+--------+------+-------+----+--------+----+-----+--------------+------+------------+-----------+-----------+\n",
      "\n"
     ]
    },
    {
     "data": {
      "text/plain": [
       "8833"
      ]
     },
     "execution_count": 14,
     "metadata": {},
     "output_type": "execute_result"
    }
   ],
   "source": [
    "df.select([count(when(isnull(c) | isnan(c) , c)).alias(c) for c in df.columns]).show()\n",
    "df.count()"
   ]
  },
  {
   "cell_type": "code",
   "execution_count": 15,
   "metadata": {},
   "outputs": [
    {
     "data": {
      "text/plain": [
       "8829"
      ]
     },
     "execution_count": 15,
     "metadata": {},
     "output_type": "execute_result"
    }
   ],
   "source": [
    "df=df.dropna(subset=(\"Type\",\"Content Rating\",\"Current Ver\",\"Android Ver\",\"Price\",\"Size\"))\n",
    "df.count()"
   ]
  },
  {
   "cell_type": "code",
   "execution_count": 16,
   "metadata": {},
   "outputs": [
    {
     "name": "stdout",
     "output_type": "stream",
     "text": [
      "+---+--------+------+-------+----+--------+----+-----+--------------+------+------------+-----------+-----------+\n",
      "|App|Category|Rating|Reviews|Size|Installs|Type|Price|Content Rating|Genres|Last Updated|Current Ver|Android Ver|\n",
      "+---+--------+------+-------+----+--------+----+-----+--------------+------+------------+-----------+-----------+\n",
      "|  0|       0|     0|      0|   0|       0|   0|    0|             0|     0|           0|          7|          2|\n",
      "+---+--------+------+-------+----+--------+----+-----+--------------+------+------------+-----------+-----------+\n",
      "\n"
     ]
    },
    {
     "data": {
      "text/plain": [
       "8829"
      ]
     },
     "execution_count": 16,
     "metadata": {},
     "output_type": "execute_result"
    }
   ],
   "source": [
    "df.select([count(when(isnull(c) | isnan(c) , c)).alias(c) for c in df.columns]).show()\n",
    "df.count()"
   ]
  },
  {
   "cell_type": "code",
   "execution_count": 17,
   "metadata": {},
   "outputs": [
    {
     "data": {
      "text/plain": [
       "8822"
      ]
     },
     "execution_count": 17,
     "metadata": {},
     "output_type": "execute_result"
    }
   ],
   "source": [
    "df=df.where(col(\"Current Ver\") != \"NaN\")\n",
    "df.count()"
   ]
  },
  {
   "cell_type": "code",
   "execution_count": 18,
   "metadata": {},
   "outputs": [
    {
     "data": {
      "text/plain": [
       "8820"
      ]
     },
     "execution_count": 18,
     "metadata": {},
     "output_type": "execute_result"
    }
   ],
   "source": [
    "df=df.where(col(\"Android Ver\") != \"NaN\")\n",
    "df.count()"
   ]
  },
  {
   "cell_type": "code",
   "execution_count": 19,
   "metadata": {},
   "outputs": [
    {
     "name": "stdout",
     "output_type": "stream",
     "text": [
      "+---+--------+------+-------+----+--------+----+-----+--------------+------+------------+-----------+-----------+\n",
      "|App|Category|Rating|Reviews|Size|Installs|Type|Price|Content Rating|Genres|Last Updated|Current Ver|Android Ver|\n",
      "+---+--------+------+-------+----+--------+----+-----+--------------+------+------------+-----------+-----------+\n",
      "|  0|       0|     0|      0|   0|       0|   0|    0|             0|     0|           0|          0|          0|\n",
      "+---+--------+------+-------+----+--------+----+-----+--------------+------+------------+-----------+-----------+\n",
      "\n"
     ]
    },
    {
     "data": {
      "text/plain": [
       "8820"
      ]
     },
     "execution_count": 19,
     "metadata": {},
     "output_type": "execute_result"
    }
   ],
   "source": [
    "df.select([count(when(isnull(c) | isnan(c) , c)).alias(c) for c in df.columns]).show()\n",
    "df.count()"
   ]
  },
  {
   "cell_type": "code",
   "execution_count": 20,
   "metadata": {},
   "outputs": [
    {
     "name": "stdout",
     "output_type": "stream",
     "text": [
      "+----------------+--------------+------+-------+----+---------+----+-----+--------------+------------+-------------+-----------+-----------+\n",
      "|             App|      Category|Rating|Reviews|Size| Installs|Type|Price|Content Rating|      Genres| Last Updated|Current Ver|Android Ver|\n",
      "+----------------+--------------+------+-------+----+---------+----+-----+--------------+------------+-------------+-----------+-----------+\n",
      "|Infinite Painter|ART_AND_DESIGN|   4.1|  36815|29.0|1000000.0|Free|  0.0|      Everyone|Art & Design|June 14, 2018|   6.1.61.1| 4.2 and up|\n",
      "+----------------+--------------+------+-------+----+---------+----+-----+--------------+------------+-------------+-----------+-----------+\n",
      "\n"
     ]
    }
   ],
   "source": [
    "df.registerTempTable(\"da1\")\n",
    "df = spark.sql('select * from da1 where App==\"Infinite Painter\"')\n",
    "df.show()"
   ]
  },
  {
   "cell_type": "code",
   "execution_count": 21,
   "metadata": {},
   "outputs": [
    {
     "name": "stdout",
     "output_type": "stream",
     "text": [
      "+-------------------------------+-------------------+------+-------+----+---------+----+-----+--------------+-----------------+-----------------+--------------------+------------+\n",
      "|                            App|           Category|Rating|Reviews|Size| Installs|Type|Price|Content Rating|           Genres|     Last Updated|         Current Ver| Android Ver|\n",
      "+-------------------------------+-------------------+------+-------+----+---------+----+-----+--------------+-----------------+-----------------+--------------------+------------+\n",
      "|           Board Game Stats:...|          LIFESTYLE|   4.6|    275| 3.9|   5000.0|Paid| 2.99|      Everyone|        Lifestyle|    July 17, 2018|               2.8.3|  4.1 and up|\n",
      "|             DW Contacts widget|              TOOLS|   4.3|     56| 2.0|   1000.0|Paid| 0.99|      Everyone|            Tools|     June 5, 2014|             1.1.0.0|  2.1 and up|\n",
      "|RPG ブレイジング ソウルズ ア...|             FAMILY|   3.4|    159| 3.1|   1000.0|Paid|10.99|          Teen|     Role Playing|   April 26, 2018|                2.12|  2.3 and up|\n",
      "|                     FJ Toolkit|              TOOLS|   4.3|      1| 2.5|    100.0|Paid| 1.49|      Everyone|            Tools|December 21, 2015|                  14|  4.0 and up|\n",
      "|           FL Racing Manager...|             SPORTS|   4.3|    340|15.0|   5000.0|Paid| 1.99|      Everyone|           Sports|   March 17, 2018|                1.18|  3.0 and up|\n",
      "|                EMT Review Plus|            MEDICAL|   4.5|    199| 1.8|  10000.0|Paid|11.99|      Everyone|          Medical|    June 27, 2018|               3.0.5| 4.4W and up|\n",
      "|           Muscle Trigger Po...|            MEDICAL|   4.4|   1361|33.0|  50000.0|Paid| 2.99|      Everyone|          Medical|    July 17, 2018|               2.4.4|4.0.3 and up|\n",
      "|           Whist - Tinnitus ...|            MEDICAL|   4.1|     12| 5.1|   1000.0|Paid| 1.99|      Everyone|          Medical|    March 2, 2017|                 1.2|  4.1 and up|\n",
      "|                      Visualmed|            MEDICAL|   4.3|      0| 3.1|      1.0|Paid| 2.99|      Everyone|          Medical|   August 1, 2018|                 1.0|  4.1 and up|\n",
      "|            Facetune - For Free|        PHOTOGRAPHY|   4.4|  49553|48.0|1000000.0|Paid| 5.99|      Everyone|      Photography|    July 25, 2018|               1.3.1|  4.1 and up|\n",
      "|            Shopping List S PRO|           SHOPPING|   4.8|     14| 2.7|    100.0|Paid| 2.49|      Everyone|         Shopping|     May 16, 2018|                2.10|  4.1 and up|\n",
      "|           17th Edition Cabl...|BOOKS_AND_REFERENCE|   4.4|     47| 1.4|   1000.0|Paid| 3.08|      Everyone|Books & Reference|     May 27, 2016|                1.22|  2.2 and up|\n",
      "|           db Meter - sound ...|              TOOLS|   4.3|      0|15.0|      1.0|Paid| 1.49|      Everyone|            Tools|   March 15, 2018|               1.0.1|  4.1 and up|\n",
      "|           FN pistol Model 1...|BOOKS_AND_REFERENCE|   4.3|      1| 5.3|     10.0|Paid| 5.49|      Everyone|Books & Reference|    March 9, 2017|  Android 3.0 - 2017|  1.6 and up|\n",
      "|           Migraine, Headach...|            MEDICAL|   4.6|    156|22.0|    500.0|Paid| 3.49|      Everyone|          Medical|   March 14, 2018|1.10.0.user.pro.r...|  4.4 and up|\n",
      "|           Lab Values + Medi...|            MEDICAL|   4.5|    133| 2.8|  10000.0|Paid| 2.99|      Everyone|          Medical|   August 2, 2014|                 3.0|  2.3 and up|\n",
      "|                Scale Models DB|              TOOLS|   4.4|      9|33.0|     50.0|Paid| 2.99|      Everyone|            Tools|      May 3, 2018|               0.6.2|  4.3 and up|\n",
      "|           G-Force Driving A...|             SPORTS|   4.6|     10| 6.1|    100.0|Paid| 3.88|      Everyone|           Sports|   April 10, 2013|                 1.0|2.3.3 and up|\n",
      "|              Cut the Rope GOLD|             FAMILY|   4.6|  61264|43.0|1000000.0|Paid| 0.99|      Everyone|           Puzzle|    June 19, 2018|               3.7.0|  4.1 and up|\n",
      "|           Ultimate Public C...|   TRAVEL_AND_LOCAL|   4.7|    213| 6.1|   5000.0|Paid| 3.99|      Everyone|   Travel & Local|   August 5, 2018|             1.8.8.0|  4.4 and up|\n",
      "+-------------------------------+-------------------+------+-------+----+---------+----+-----+--------------+-----------------+-----------------+--------------------+------------+\n",
      "only showing top 20 rows\n",
      "\n"
     ]
    }
   ],
   "source": [
    "\n",
    "df=spark.sql('select * from da1 where (Price > 0)')\n",
    "df.show()"
   ]
  },
  {
   "cell_type": "code",
   "execution_count": 22,
   "metadata": {},
   "outputs": [
    {
     "name": "stdout",
     "output_type": "stream",
     "text": [
      "+--------------------+---------+------+-------+----+--------+----+-----+--------------+---------+-----------------+-----------+------------+\n",
      "|                 App| Category|Rating|Reviews|Size|Installs|Type|Price|Content Rating|   Genres|     Last Updated|Current Ver| Android Ver|\n",
      "+--------------------+---------+------+-------+----+--------+----+-----+--------------+---------+-----------------+-----------+------------+\n",
      "|Board Game Stats:...|LIFESTYLE|   4.6|    275| 3.9|  5000.0|Paid| 2.99|      Everyone|Lifestyle|    July 17, 2018|      2.8.3|  4.1 and up|\n",
      "|          FJ Toolkit|    TOOLS|   4.3|      1| 2.5|   100.0|Paid| 1.49|      Everyone|    Tools|December 21, 2015|         14|  4.0 and up|\n",
      "|FL Racing Manager...|   SPORTS|   4.3|    340|15.0|  5000.0|Paid| 1.99|      Everyone|   Sports|   March 17, 2018|       1.18|  3.0 and up|\n",
      "|Muscle Trigger Po...|  MEDICAL|   4.4|   1361|33.0| 50000.0|Paid| 2.99|      Everyone|  Medical|    July 17, 2018|      2.4.4|4.0.3 and up|\n",
      "|Whist - Tinnitus ...|  MEDICAL|   4.1|     12| 5.1|  1000.0|Paid| 1.99|      Everyone|  Medical|    March 2, 2017|        1.2|  4.1 and up|\n",
      "|           Visualmed|  MEDICAL|   4.3|      0| 3.1|     1.0|Paid| 2.99|      Everyone|  Medical|   August 1, 2018|        1.0|  4.1 and up|\n",
      "| Shopping List S PRO| SHOPPING|   4.8|     14| 2.7|   100.0|Paid| 2.49|      Everyone| Shopping|     May 16, 2018|       2.10|  4.1 and up|\n",
      "|db Meter - sound ...|    TOOLS|   4.3|      0|15.0|     1.0|Paid| 1.49|      Everyone|    Tools|   March 15, 2018|      1.0.1|  4.1 and up|\n",
      "|Lab Values + Medi...|  MEDICAL|   4.5|    133| 2.8| 10000.0|Paid| 2.99|      Everyone|  Medical|   August 2, 2014|        3.0|  2.3 and up|\n",
      "|     Scale Models DB|    TOOLS|   4.4|      9|33.0|    50.0|Paid| 2.99|      Everyone|    Tools|      May 3, 2018|      0.6.2|  4.3 and up|\n",
      "+--------------------+---------+------+-------+----+--------+----+-----+--------------+---------+-----------------+-----------+------------+\n",
      "only showing top 10 rows\n",
      "\n"
     ]
    }
   ],
   "source": [
    "df.filter(df[\"Price\"].between(1, 3)).show(10)"
   ]
  },
  {
   "cell_type": "code",
   "execution_count": 23,
   "metadata": {},
   "outputs": [
    {
     "name": "stdout",
     "output_type": "stream",
     "text": [
      "+-------------------+-------------+\n",
      "|           Category|sum(Installs)|\n",
      "+-------------------+-------------+\n",
      "|             EVENTS|          1.0|\n",
      "|             SPORTS|    1093815.0|\n",
      "|            WEATHER|     311500.0|\n",
      "|      VIDEO_PLAYERS|       1000.0|\n",
      "|  AUTO_AND_VEHICLES|        150.0|\n",
      "|          PARENTING|      50000.0|\n",
      "|      ENTERTAINMENT|     100000.0|\n",
      "|    PERSONALIZATION|    4047784.0|\n",
      "|   TRAVEL_AND_LOCAL|      73060.0|\n",
      "| HEALTH_AND_FITNESS|     224110.0|\n",
      "|BOOKS_AND_REFERENCE|      18316.0|\n",
      "|     FOOD_AND_DRINK|      50000.0|\n",
      "|        PHOTOGRAPHY|    1728740.0|\n",
      "|           BUSINESS|     212675.0|\n",
      "|             FAMILY|  1.0723764E7|\n",
      "|           SHOPPING|      10100.0|\n",
      "|               GAME|  2.0899963E7|\n",
      "|          EDUCATION|     602000.0|\n",
      "|       PRODUCTIVITY|    1206055.0|\n",
      "|              TOOLS|     446331.0|\n",
      "+-------------------+-------------+\n",
      "only showing top 20 rows\n",
      "\n",
      "+--------------------+-------------------+------+-------+----+---------+----+-----+--------------+-----------------+------------------+------------+------------+\n",
      "|                 App|           Category|Rating|Reviews|Size| Installs|Type|Price|Content Rating|           Genres|      Last Updated| Current Ver| Android Ver|\n",
      "+--------------------+-------------------+------+-------+----+---------+----+-----+--------------+-----------------+------------------+------------+------------+\n",
      "|English Dictionar...|BOOKS_AND_REFERENCE|   4.4| 341157|30.0|    1.0E7|Free|  0.0|  Everyone 10+|Books & Reference|    March 20, 2018|       3.9.1|  4.2 and up|\n",
      "|Learn English for...|          EDUCATION|   4.5|   1929| 2.5| 500000.0|Free|  0.0|      Everyone|        Education|September 28, 2017|         1.1|  2.3 and up|\n",
      "|Babbel – Learn Sp...|          EDUCATION|   4.4|  54798|11.0|1000000.0|Free|  0.0|      Everyone|        Education|     July 30, 2018|      20.7.2|  4.4 and up|\n",
      "|Sarajevo Film Fes...|             EVENTS|   4.3|      6| 9.7|    100.0|Free|  0.0|  Everyone 10+|           Events|     July 31, 2018|       2.0.1| 4.4W and up|\n",
      "|The Bump Pregnanc...| HEALTH_AND_FITNESS|   4.6|  20301|22.0|1000000.0|Free|  0.0|      Everyone| Health & Fitness|      May 16, 2018|        3.22|  4.3 and up|\n",
      "|Weight Watchers M...| HEALTH_AND_FITNESS|   4.2| 270294|58.0|5000000.0|Free|  0.0|      Everyone| Health & Fitness|     July 31, 2018|      6.15.0|  4.1 and up|\n",
      "|VitusVet: Pet Hea...|            MEDICAL|   4.8|   3052|12.0| 100000.0|Free|  0.0|      Everyone|          Medical|     July 31, 2018|       3.8.0|  4.1 and up|\n",
      "|Ebates: Cash Back...|           SHOPPING|   4.5|  37253|31.0|1000000.0|Free|  0.0|      Everyone|         Shopping|    August 3, 2018|      4.31.2|  4.4 and up|\n",
      "|Yoriza Pension - ...|   TRAVEL_AND_LOCAL|   4.8|  17882|86.0|1000000.0|Free|  0.0|      Everyone|   Travel & Local|    August 3, 2018|       3.4.5|  5.0 and up|\n",
      "|      Age Calculator|              TOOLS|   4.4|  24265| 3.3|1000000.0|Free|  0.0|      Everyone|            Tools|     July 25, 2017|       4.0.6|4.0.3 and up|\n",
      "|Free & Premium VP...|              TOOLS|   4.2|  19096|10.0|1000000.0|Free|  0.0|      Everyone|            Tools|      July 5, 2018|       2.0.2|  4.1 and up|\n",
      "|             Notepad|       PRODUCTIVITY|   4.2|  80581| 2.5|    1.0E7|Free|  0.0|      Everyone|     Productivity|  October 16, 2016|         2.4|  2.3 and up|\n",
      "|F-Secure Mobile S...|              TOOLS|   4.2|  13096| 9.2| 500000.0|Free|  0.0|      Everyone|            Tools|     July 30, 2018|17.4.0014017|  5.0 and up|\n",
      "|Convert degree Ce...|              TOOLS|   4.4|     51| 2.1|   5000.0|Free|  0.0|      Everyone|            Tools|      May 21, 2018|       1.5.8|  4.0 and up|\n",
      "|Q Cat Live Wallpaper|    PERSONALIZATION|   4.2|   4383| 7.1| 500000.0|Free|  0.0|          Teen|  Personalization|    March 16, 2015|         2.7|2.3.3 and up|\n",
      "|T-shirt design - ...|          LIFESTYLE|   4.2|  29756|45.0|1000000.0|Free|  0.0|      Everyone|        Lifestyle|     July 19, 2018|     1.1.6.1|  4.1 and up|\n",
      "|T. Rowe Price Per...|            FINANCE|   4.5|   1057| 4.5|  50000.0|Free|  0.0|      Everyone|          Finance|      July 6, 2018|         1.7|  6.0 and up|\n",
      "|Pixel Z Gunner 3D...|               GAME|   4.2|  11408|96.0|1000000.0|Free|  0.0|          Teen|           Action|      July 6, 2018|         4.1|  4.0 and up|\n",
      "|        Kimbrough AH|            MEDICAL|   5.0|      5|28.0|    100.0|Free|  0.0|      Everyone|          Medical|September 21, 2017| 300000.0.90|4.0.3 and up|\n",
      "|Board Game Stats:...|          LIFESTYLE|   4.6|    275| 3.9|   5000.0|Paid| 2.99|      Everyone|        Lifestyle|     July 17, 2018|       2.8.3|  4.1 and up|\n",
      "+--------------------+-------------------+------+-------+----+---------+----+-----+--------------+-----------------+------------------+------------+------------+\n",
      "only showing top 20 rows\n",
      "\n"
     ]
    }
   ],
   "source": [
    "df.groupby(\"Category\").agg({'Installs': \"sum\"}).show()\n",
    "\n",
    "spark.sql('select * from da1 where (Rating > 3)').show()"
   ]
  },
  {
   "cell_type": "code",
   "execution_count": 24,
   "metadata": {},
   "outputs": [
    {
     "name": "stdout",
     "output_type": "stream",
     "text": [
      "+--------------------+-------------------+------+-------+----+---------+----+-----+--------------+-----------------+------------------+------------+------------+\n",
      "|                 App|           Category|Rating|Reviews|Size| Installs|Type|Price|Content Rating|           Genres|      Last Updated| Current Ver| Android Ver|\n",
      "+--------------------+-------------------+------+-------+----+---------+----+-----+--------------+-----------------+------------------+------------+------------+\n",
      "|English Dictionar...|BOOKS_AND_REFERENCE|   4.4| 341157|30.0|    1.0E7|Free|  0.0|  Everyone 10+|Books & Reference|    March 20, 2018|       3.9.1|  4.2 and up|\n",
      "|Learn English for...|          EDUCATION|   4.5|   1929| 2.5| 500000.0|Free|  0.0|      Everyone|        Education|September 28, 2017|         1.1|  2.3 and up|\n",
      "|Babbel – Learn Sp...|          EDUCATION|   4.4|  54798|11.0|1000000.0|Free|  0.0|      Everyone|        Education|     July 30, 2018|      20.7.2|  4.4 and up|\n",
      "|Sarajevo Film Fes...|             EVENTS|   4.3|      6| 9.7|    100.0|Free|  0.0|  Everyone 10+|           Events|     July 31, 2018|       2.0.1| 4.4W and up|\n",
      "|The Bump Pregnanc...| HEALTH_AND_FITNESS|   4.6|  20301|22.0|1000000.0|Free|  0.0|      Everyone| Health & Fitness|      May 16, 2018|        3.22|  4.3 and up|\n",
      "|Weight Watchers M...| HEALTH_AND_FITNESS|   4.2| 270294|58.0|5000000.0|Free|  0.0|      Everyone| Health & Fitness|     July 31, 2018|      6.15.0|  4.1 and up|\n",
      "|VitusVet: Pet Hea...|            MEDICAL|   4.8|   3052|12.0| 100000.0|Free|  0.0|      Everyone|          Medical|     July 31, 2018|       3.8.0|  4.1 and up|\n",
      "|Ebates: Cash Back...|           SHOPPING|   4.5|  37253|31.0|1000000.0|Free|  0.0|      Everyone|         Shopping|    August 3, 2018|      4.31.2|  4.4 and up|\n",
      "|Yoriza Pension - ...|   TRAVEL_AND_LOCAL|   4.8|  17882|86.0|1000000.0|Free|  0.0|      Everyone|   Travel & Local|    August 3, 2018|       3.4.5|  5.0 and up|\n",
      "|      Age Calculator|              TOOLS|   4.4|  24265| 3.3|1000000.0|Free|  0.0|      Everyone|            Tools|     July 25, 2017|       4.0.6|4.0.3 and up|\n",
      "|Free & Premium VP...|              TOOLS|   4.2|  19096|10.0|1000000.0|Free|  0.0|      Everyone|            Tools|      July 5, 2018|       2.0.2|  4.1 and up|\n",
      "|             Notepad|       PRODUCTIVITY|   4.2|  80581| 2.5|    1.0E7|Free|  0.0|      Everyone|     Productivity|  October 16, 2016|         2.4|  2.3 and up|\n",
      "|F-Secure Mobile S...|              TOOLS|   4.2|  13096| 9.2| 500000.0|Free|  0.0|      Everyone|            Tools|     July 30, 2018|17.4.0014017|  5.0 and up|\n",
      "|Convert degree Ce...|              TOOLS|   4.4|     51| 2.1|   5000.0|Free|  0.0|      Everyone|            Tools|      May 21, 2018|       1.5.8|  4.0 and up|\n",
      "|Q Cat Live Wallpaper|    PERSONALIZATION|   4.2|   4383| 7.1| 500000.0|Free|  0.0|          Teen|  Personalization|    March 16, 2015|         2.7|2.3.3 and up|\n",
      "|T-shirt design - ...|          LIFESTYLE|   4.2|  29756|45.0|1000000.0|Free|  0.0|      Everyone|        Lifestyle|     July 19, 2018|     1.1.6.1|  4.1 and up|\n",
      "|T. Rowe Price Per...|            FINANCE|   4.5|   1057| 4.5|  50000.0|Free|  0.0|      Everyone|          Finance|      July 6, 2018|         1.7|  6.0 and up|\n",
      "|Pixel Z Gunner 3D...|               GAME|   4.2|  11408|96.0|1000000.0|Free|  0.0|          Teen|           Action|      July 6, 2018|         4.1|  4.0 and up|\n",
      "|        Kimbrough AH|            MEDICAL|   5.0|      5|28.0|    100.0|Free|  0.0|      Everyone|          Medical|September 21, 2017| 300000.0.90|4.0.3 and up|\n",
      "|          BH Rocking|   TRAVEL_AND_LOCAL|   4.3|     13| 3.2|    100.0|Free|  0.0|      Everyone|   Travel & Local|  January 17, 2018|       1.0.7|  4.1 and up|\n",
      "+--------------------+-------------------+------+-------+----+---------+----+-----+--------------+-----------------+------------------+------------+------------+\n",
      "only showing top 20 rows\n",
      "\n"
     ]
    }
   ],
   "source": [
    "df=spark.sql('select * from da1 where Type == \"Free\"')\n",
    "df.show()"
   ]
  },
  {
   "cell_type": "code",
   "execution_count": 29,
   "metadata": {},
   "outputs": [
    {
     "data": {
      "image/png": "[encoded data removed]",
      "text/plain": [
       "<Figure size 432x288 with 1 Axes>"
      ]
     },
     "metadata": {
      "needs_background": "light"
     },
     "output_type": "display_data"
    }
   ],
   "source": [
    "# PLOT PASSENGER NUMBER VS. TRIP COUNTS\n",
    "#%%local\n",
    "import matplotlib.pyplot as plt\n",
    "import pandas\n",
    "x=df.toPandas()[\"Category\"].values.tolist()\n",
    "y=df.toPandas()[\"Type\"].values.tolist()\n",
    "plt.plot(x,y)\n",
    "plt.show()"
   ]
  },
  {
   "cell_type": "code",
   "execution_count": 26,
   "metadata": {},
   "outputs": [
    {
     "data": {
      "image/png": "[encoded data removed]",
      "text/plain": [
       "<Figure size 432x288 with 1 Axes>"
      ]
     },
     "metadata": {
      "needs_background": "light"
     },
     "output_type": "display_data"
    }
   ],
   "source": [
    "import matplotlib.pyplot as plt\n",
    "import pandas\n",
    "x=df.toPandas()[\"Rating\"].values.tolist()\n",
    "y=df.toPandas()[\"Category\"].values.tolist()\n",
    "plt.bar(x,y)\n",
    "plt.show()"
   ]
  },
  {
   "cell_type": "code",
   "execution_count": 27,
   "metadata": {},
   "outputs": [],
   "source": [
    "#import seaborn as sns\n",
    "#test_df = df.toPandas()\n",
    "#plt.figure(figsize=(7, 5))\n",
    "#sns.heatmap(test_df.isnull(), cmap='viridis')\n",
    "#test_df.isnull()"
   ]
  },
  {
   "cell_type": "code",
   "execution_count": null,
   "metadata": {},
   "outputs": [],
   "source": []
  },
  {
   "cell_type": "code",
   "execution_count": null,
   "metadata": {},
   "outputs": [],
   "source": []
  },
  {
   "cell_type": "code",
   "execution_count": null,
   "metadata": {},
   "outputs": [],
   "source": []
  },
  {
   "cell_type": "code",
   "execution_count": null,
   "metadata": {},
   "outputs": [],
   "source": []
  },
  {
   "cell_type": "code",
   "execution_count": null,
   "metadata": {},
   "outputs": [],
   "source": [
    "\n"
   ]
  },
  {
   "cell_type": "code",
   "execution_count": null,
   "metadata": {},
   "outputs": [],
   "source": []
  },
  {
   "cell_type": "code",
   "execution_count": null,
   "metadata": {},
   "outputs": [],
   "source": []
  },
  {
   "cell_type": "code",
   "execution_count": null,
   "metadata": {},
   "outputs": [],
   "source": []
  },
  {
   "cell_type": "code",
   "execution_count": null,
   "metadata": {},
   "outputs": [],
   "source": []
  },
  {
   "cell_type": "code",
   "execution_count": null,
   "metadata": {},
   "outputs": [],
   "source": []
  },
  {
   "cell_type": "code",
   "execution_count": null,
   "metadata": {},
   "outputs": [],
   "source": []
  },
  {
   "cell_type": "code",
   "execution_count": null,
   "metadata": {},
   "outputs": [],
   "source": []
  },
  {
   "cell_type": "code",
   "execution_count": null,
   "metadata": {},
   "outputs": [],
   "source": []
  },
  {
   "cell_type": "code",
   "execution_count": 28,
   "metadata": {},
   "outputs": [],
   "source": [
    "#import seaborn as sns\n",
    "#test_df = df.toPandas()\n",
    "#plt.figure(figsize=(7, 5))\n",
    "#sns.heatmap(test_df.isnull(), cmap='viridis')\n",
    "#test_df.isnull()"
   ]
  },
  {
   "cell_type": "code",
   "execution_count": null,
   "metadata": {},
   "outputs": [],
   "source": []
  },
  {
   "cell_type": "code",
   "execution_count": null,
   "metadata": {},
   "outputs": [],
   "source": []
  },
  {
   "cell_type": "code",
   "execution_count": null,
   "metadata": {},
   "outputs": [],
   "source": []
  },
  {
   "cell_type": "code",
   "execution_count": null,
   "metadata": {},
   "outputs": [],
   "source": []
  },
  {
   "cell_type": "code",
   "execution_count": null,
   "metadata": {},
   "outputs": [],
   "source": []
  },
  {
   "cell_type": "code",
   "execution_count": null,
   "metadata": {},
   "outputs": [],
   "source": []
  },
  {
   "cell_type": "code",
   "execution_count": null,
   "metadata": {},
   "outputs": [],
   "source": [
    "\n"
   ]
  },
  {
   "cell_type": "code",
   "execution_count": null,
   "metadata": {},
   "outputs": [],
   "source": []
  },
  {
   "cell_type": "code",
   "execution_count": null,
   "metadata": {},
   "outputs": [],
   "source": []
  },
  {
   "cell_type": "code",
   "execution_count": null,
   "metadata": {},
   "outputs": [],
   "source": []
  },
  {
   "cell_type": "code",
   "execution_count": null,
   "metadata": {},
   "outputs": [],
   "source": []
  },
  {
   "cell_type": "code",
   "execution_count": null,
   "metadata": {},
   "outputs": [],
   "source": []
  },
  {
   "cell_type": "code",
   "execution_count": null,
   "metadata": {},
   "outputs": [],
   "source": []
  },
  {
   "cell_type": "code",
   "execution_count": null,
   "metadata": {},
   "outputs": [],
   "source": []
  },
  {
   "cell_type": "code",
   "execution_count": null,
   "metadata": {},
   "outputs": [],
   "source": []
  },
  {
   "cell_type": "code",
   "execution_count": null,
   "metadata": {},
   "outputs": [],
   "source": []
  },
  {
   "cell_type": "code",
   "execution_count": null,
   "metadata": {},
   "outputs": [],
   "source": []
  },
  {
   "cell_type": "code",
   "execution_count": null,
   "metadata": {},
   "outputs": [],
   "source": []
  },
  {
   "cell_type": "code",
   "execution_count": null,
   "metadata": {},
   "outputs": [],
   "source": []
  },
  {
   "cell_type": "code",
   "execution_count": null,
   "metadata": {},
   "outputs": [],
   "source": []
  },
  {
   "cell_type": "code",
   "execution_count": null,
   "metadata": {},
   "outputs": [],
   "source": []
  },
  {
   "cell_type": "code",
   "execution_count": null,
   "metadata": {},
   "outputs": [],
   "source": []
  },
  {
   "cell_type": "code",
   "execution_count": null,
   "metadata": {},
   "outputs": [],
   "source": []
  },
  {
   "cell_type": "code",
   "execution_count": null,
   "metadata": {},
   "outputs": [],
   "source": []
  },
  {
   "cell_type": "code",
   "execution_count": null,
   "metadata": {},
   "outputs": [],
   "source": []
  },
  {
   "cell_type": "code",
   "execution_count": null,
   "metadata": {},
   "outputs": [],
   "source": [
    "\n"
   ]
  },
  {
   "cell_type": "code",
   "execution_count": null,
   "metadata": {},
   "outputs": [],
   "source": []
  },
  {
   "cell_type": "code",
   "execution_count": null,
   "metadata": {},
   "outputs": [],
   "source": []
  },
  {
   "cell_type": "code",
   "execution_count": null,
   "metadata": {},
   "outputs": [],
   "source": []
  },
  {
   "cell_type": "code",
   "execution_count": null,
   "metadata": {},
   "outputs": [],
   "source": []
  },
  {
   "cell_type": "code",
   "execution_count": null,
   "metadata": {},
   "outputs": [],
   "source": []
  }
 ],
 "metadata": {
  "kernelspec": {
   "display_name": "Python 3",
   "language": "python",
   "name": "python3"
  },
  "language_info": {
   "codemirror_mode": {
    "name": "ipython",
    "version": 3
   },
   "file_extension": ".py",
   "mimetype": "text/x-python",
   "name": "python",
   "nbconvert_exporter": "python",
   "pygments_lexer": "ipython3",
   "version": "3.8.5"
  }
 },
 "nbformat": 4,
 "nbformat_minor": 4
}
